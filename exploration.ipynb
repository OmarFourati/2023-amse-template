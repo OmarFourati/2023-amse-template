{
 "cells": [
  {
   "attachments": {},
   "cell_type": "markdown",
   "metadata": {},
   "source": [
    "# Data Exploration\n",
    "\n",
    "In this notebook describe your data exploration steps."
   ]
  },
  {
   "attachments": {},
   "cell_type": "markdown",
   "metadata": {},
   "source": [
    "## Install dependencies"
   ]
  },
  {
   "cell_type": "code",
   "execution_count": 1,
   "metadata": {},
   "outputs": [],
   "source": [
    "# %pip install pandas\n",
    "# %pip install 'SQLAlchemy==1.4.46'\n",
    "# %pip install SQLAlchemy\n"
   ]
  },
  {
   "attachments": {},
   "cell_type": "markdown",
   "metadata": {},
   "source": [
    "## Load data"
   ]
  },
  {
   "cell_type": "code",
   "execution_count": 3,
   "metadata": {},
   "outputs": [
    {
     "ename": "ValueError",
     "evalue": "Table fahraddverkehr_2018 not found",
     "output_type": "error",
     "traceback": [
      "\u001b[1;31m---------------------------------------------------------------------------\u001b[0m",
      "\u001b[1;31mValueError\u001b[0m                                Traceback (most recent call last)",
      "Cell \u001b[1;32mIn[3], line 4\u001b[0m\n\u001b[0;32m      1\u001b[0m \u001b[39mimport\u001b[39;00m \u001b[39mpandas\u001b[39;00m \u001b[39mas\u001b[39;00m \u001b[39mpd\u001b[39;00m\n\u001b[1;32m----> 4\u001b[0m df_2018 \u001b[39m=\u001b[39m pd\u001b[39m.\u001b[39;49mread_sql_table(\u001b[39m'\u001b[39;49m\u001b[39mfahraddverkehr_2018\u001b[39;49m\u001b[39m'\u001b[39;49m, \u001b[39m'\u001b[39;49m\u001b[39msqlite:///data/verkehrszaelungen.sqlite\u001b[39;49m\u001b[39m'\u001b[39;49m)\n\u001b[0;32m      5\u001b[0m df_2022 \u001b[39m=\u001b[39m pd\u001b[39m.\u001b[39mread_sql_table(\u001b[39m'\u001b[39m\u001b[39mfahraddverkehr_2022\u001b[39m\u001b[39m'\u001b[39m, \u001b[39m'\u001b[39m\u001b[39msqlite:///verkehrszaelungen.sqlite\u001b[39m\u001b[39m'\u001b[39m)\n",
      "File \u001b[1;32mc:\\Users\\foura\\AppData\\Local\\Programs\\Python\\Python38\\lib\\site-packages\\pandas\\io\\sql.py:282\u001b[0m, in \u001b[0;36mread_sql_table\u001b[1;34m(table_name, con, schema, index_col, coerce_float, parse_dates, columns, chunksize)\u001b[0m\n\u001b[0;32m    280\u001b[0m pandas_sql \u001b[39m=\u001b[39m pandasSQL_builder(con, schema\u001b[39m=\u001b[39mschema)\n\u001b[0;32m    281\u001b[0m \u001b[39mif\u001b[39;00m \u001b[39mnot\u001b[39;00m pandas_sql\u001b[39m.\u001b[39mhas_table(table_name):\n\u001b[1;32m--> 282\u001b[0m     \u001b[39mraise\u001b[39;00m \u001b[39mValueError\u001b[39;00m(\u001b[39mf\u001b[39m\u001b[39m\"\u001b[39m\u001b[39mTable \u001b[39m\u001b[39m{\u001b[39;00mtable_name\u001b[39m}\u001b[39;00m\u001b[39m not found\u001b[39m\u001b[39m\"\u001b[39m)\n\u001b[0;32m    284\u001b[0m \u001b[39m# error: Item \"SQLiteDatabase\" of \"Union[SQLDatabase, SQLiteDatabase]\"\u001b[39;00m\n\u001b[0;32m    285\u001b[0m \u001b[39m# has no attribute \"read_table\"\u001b[39;00m\n\u001b[0;32m    286\u001b[0m table \u001b[39m=\u001b[39m pandas_sql\u001b[39m.\u001b[39mread_table(  \u001b[39m# type: ignore[union-attr]\u001b[39;00m\n\u001b[0;32m    287\u001b[0m     table_name,\n\u001b[0;32m    288\u001b[0m     index_col\u001b[39m=\u001b[39mindex_col,\n\u001b[1;32m   (...)\u001b[0m\n\u001b[0;32m    292\u001b[0m     chunksize\u001b[39m=\u001b[39mchunksize,\n\u001b[0;32m    293\u001b[0m )\n",
      "\u001b[1;31mValueError\u001b[0m: Table fahraddverkehr_2018 not found"
     ]
    }
   ],
   "source": [
    "import pandas as pd\n",
    "\n",
    "\n",
    "df_2018 = pd.read_sql_table('fahraddverkehr_2018', 'sqlite:///data/verkehrszaehlungen.sqlite')\n",
    "df_2022 = pd.read_sql_table('fahraddverkehr_2022', 'sqlite:///data/verkehrszaehlungen.sqlite')"
   ]
  },
  {
   "attachments": {},
   "cell_type": "markdown",
   "metadata": {},
   "source": [
    "### Look at the first rows"
   ]
  },
  {
   "cell_type": "code",
   "execution_count": 2,
   "metadata": {},
   "outputs": [
    {
     "data": {
      "text/html": [
       "<div>\n",
       "<style scoped>\n",
       "    .dataframe tbody tr th:only-of-type {\n",
       "        vertical-align: middle;\n",
       "    }\n",
       "\n",
       "    .dataframe tbody tr th {\n",
       "        vertical-align: top;\n",
       "    }\n",
       "\n",
       "    .dataframe thead th {\n",
       "        text-align: right;\n",
       "    }\n",
       "</style>\n",
       "<table border=\"1\" class=\"dataframe\">\n",
       "  <thead>\n",
       "    <tr style=\"text-align: right;\">\n",
       "      <th></th>\n",
       "      <th>EVA_NR</th>\n",
       "      <th>DS100</th>\n",
       "      <th>IFOPT</th>\n",
       "      <th>NAME</th>\n",
       "      <th>Verkehr</th>\n",
       "      <th>Laenge</th>\n",
       "      <th>Breite</th>\n",
       "      <th>Betreiber_Name</th>\n",
       "      <th>Betreiber_Nr</th>\n",
       "      <th>Status</th>\n",
       "    </tr>\n",
       "  </thead>\n",
       "  <tbody>\n",
       "    <tr>\n",
       "      <th>0</th>\n",
       "      <td>8002551</td>\n",
       "      <td>AELB</td>\n",
       "      <td>de:02000:11943</td>\n",
       "      <td>Hamburg Elbbrücken</td>\n",
       "      <td>RV</td>\n",
       "      <td>10.024500</td>\n",
       "      <td>53.534500</td>\n",
       "      <td>DB Station und Service AG</td>\n",
       "      <td>NaN</td>\n",
       "      <td>neu</td>\n",
       "    </tr>\n",
       "    <tr>\n",
       "      <th>1</th>\n",
       "      <td>8001944</td>\n",
       "      <td>TETN</td>\n",
       "      <td>None</td>\n",
       "      <td>Eutingen Nord</td>\n",
       "      <td>RV</td>\n",
       "      <td>8.753100</td>\n",
       "      <td>48.484700</td>\n",
       "      <td>DB Station und Service AG</td>\n",
       "      <td>NaN</td>\n",
       "      <td>neu</td>\n",
       "    </tr>\n",
       "    <tr>\n",
       "      <th>2</th>\n",
       "      <td>8003074</td>\n",
       "      <td>MIA</td>\n",
       "      <td>None</td>\n",
       "      <td>Ingolstadt Audi</td>\n",
       "      <td>RV</td>\n",
       "      <td>11.407456</td>\n",
       "      <td>48.790496</td>\n",
       "      <td>DB Station und Service AG</td>\n",
       "      <td>NaN</td>\n",
       "      <td>neu</td>\n",
       "    </tr>\n",
       "    <tr>\n",
       "      <th>3</th>\n",
       "      <td>8001723</td>\n",
       "      <td>HEBA</td>\n",
       "      <td>None</td>\n",
       "      <td>Einbeck Otto-Hahn-Straße</td>\n",
       "      <td>RV</td>\n",
       "      <td>9.892910</td>\n",
       "      <td>51.814478</td>\n",
       "      <td>Ilmebahn GmbH</td>\n",
       "      <td>NaN</td>\n",
       "      <td>neu</td>\n",
       "    </tr>\n",
       "    <tr>\n",
       "      <th>4</th>\n",
       "      <td>8004371</td>\n",
       "      <td>KRO</td>\n",
       "      <td>None</td>\n",
       "      <td>Nörvenich-Rommelsheim</td>\n",
       "      <td>nur DPN</td>\n",
       "      <td>6.547586</td>\n",
       "      <td>50.782539</td>\n",
       "      <td>Rurtalbahn GmbH</td>\n",
       "      <td>NaN</td>\n",
       "      <td>neu</td>\n",
       "    </tr>\n",
       "    <tr>\n",
       "      <th>5</th>\n",
       "      <td>8010340</td>\n",
       "      <td>DSTR</td>\n",
       "      <td>None</td>\n",
       "      <td>Straßgräbchen-Bernsdorf</td>\n",
       "      <td>nur DPN</td>\n",
       "      <td>14.052047</td>\n",
       "      <td>51.361469</td>\n",
       "      <td>None</td>\n",
       "      <td>NaN</td>\n",
       "      <td>neu</td>\n",
       "    </tr>\n",
       "    <tr>\n",
       "      <th>6</th>\n",
       "      <td>8001510</td>\n",
       "      <td>TDSA</td>\n",
       "      <td>de:08237:8009:2</td>\n",
       "      <td>Dornstetten-Aach</td>\n",
       "      <td>RV</td>\n",
       "      <td>8.482910</td>\n",
       "      <td>48.473300</td>\n",
       "      <td>DB Station und Service AG</td>\n",
       "      <td>NaN</td>\n",
       "      <td>neu</td>\n",
       "    </tr>\n",
       "    <tr>\n",
       "      <th>7</th>\n",
       "      <td>8001966</td>\n",
       "      <td>MFOL</td>\n",
       "      <td>de:09187:90183</td>\n",
       "      <td>Feldolling</td>\n",
       "      <td>nur DPN</td>\n",
       "      <td>11.852244</td>\n",
       "      <td>47.895336</td>\n",
       "      <td>DB Station und Service AG</td>\n",
       "      <td>NaN</td>\n",
       "      <td>neu</td>\n",
       "    </tr>\n",
       "    <tr>\n",
       "      <th>8</th>\n",
       "      <td>8002060</td>\n",
       "      <td>FFGG</td>\n",
       "      <td>de:06412:11500</td>\n",
       "      <td>Frankfurt(Main)-Gateway Gardens</td>\n",
       "      <td>RV</td>\n",
       "      <td>8.594495</td>\n",
       "      <td>50.056574</td>\n",
       "      <td>DB Station und Service AG</td>\n",
       "      <td>NaN</td>\n",
       "      <td>neu</td>\n",
       "    </tr>\n",
       "    <tr>\n",
       "      <th>9</th>\n",
       "      <td>8002535</td>\n",
       "      <td>EOBG</td>\n",
       "      <td>de:05962:3517</td>\n",
       "      <td>Halver-Oberbrügge</td>\n",
       "      <td>RV</td>\n",
       "      <td>7.574042</td>\n",
       "      <td>51.191867</td>\n",
       "      <td>DB Station und Service AG</td>\n",
       "      <td>NaN</td>\n",
       "      <td>neu</td>\n",
       "    </tr>\n",
       "  </tbody>\n",
       "</table>\n",
       "</div>"
      ],
      "text/plain": [
       "    EVA_NR DS100            IFOPT                             NAME  Verkehr  \\\n",
       "0  8002551  AELB   de:02000:11943               Hamburg Elbbrücken       RV   \n",
       "1  8001944  TETN             None                    Eutingen Nord       RV   \n",
       "2  8003074   MIA             None                  Ingolstadt Audi       RV   \n",
       "3  8001723  HEBA             None         Einbeck Otto-Hahn-Straße       RV   \n",
       "4  8004371   KRO             None            Nörvenich-Rommelsheim  nur DPN   \n",
       "5  8010340  DSTR             None          Straßgräbchen-Bernsdorf  nur DPN   \n",
       "6  8001510  TDSA  de:08237:8009:2                 Dornstetten-Aach       RV   \n",
       "7  8001966  MFOL   de:09187:90183                       Feldolling  nur DPN   \n",
       "8  8002060  FFGG   de:06412:11500  Frankfurt(Main)-Gateway Gardens       RV   \n",
       "9  8002535  EOBG    de:05962:3517                Halver-Oberbrügge       RV   \n",
       "\n",
       "      Laenge     Breite             Betreiber_Name  Betreiber_Nr Status  \n",
       "0  10.024500  53.534500  DB Station und Service AG           NaN    neu  \n",
       "1   8.753100  48.484700  DB Station und Service AG           NaN    neu  \n",
       "2  11.407456  48.790496  DB Station und Service AG           NaN    neu  \n",
       "3   9.892910  51.814478              Ilmebahn GmbH           NaN    neu  \n",
       "4   6.547586  50.782539            Rurtalbahn GmbH           NaN    neu  \n",
       "5  14.052047  51.361469                       None           NaN    neu  \n",
       "6   8.482910  48.473300  DB Station und Service AG           NaN    neu  \n",
       "7  11.852244  47.895336  DB Station und Service AG           NaN    neu  \n",
       "8   8.594495  50.056574  DB Station und Service AG           NaN    neu  \n",
       "9   7.574042  51.191867  DB Station und Service AG           NaN    neu  "
      ]
     },
     "execution_count": 2,
     "metadata": {},
     "output_type": "execute_result"
    }
   ],
   "source": [
    "df.head(10)"
   ]
  },
  {
   "attachments": {},
   "cell_type": "markdown",
   "metadata": {},
   "source": [
    "### Data exploration\n",
    "Print some basic information about the data. Your data exploration would continue here."
   ]
  },
  {
   "cell_type": "code",
   "execution_count": 3,
   "metadata": {},
   "outputs": [
    {
     "name": "stdout",
     "output_type": "stream",
     "text": [
      "<class 'pandas.core.frame.DataFrame'>\n",
      "RangeIndex: 6519 entries, 0 to 6518\n",
      "Data columns (total 10 columns):\n",
      " #   Column          Non-Null Count  Dtype  \n",
      "---  ------          --------------  -----  \n",
      " 0   EVA_NR          6519 non-null   int64  \n",
      " 1   DS100           6519 non-null   object \n",
      " 2   IFOPT           6512 non-null   object \n",
      " 3   NAME            6519 non-null   object \n",
      " 4   Verkehr         6519 non-null   object \n",
      " 5   Laenge          6519 non-null   float64\n",
      " 6   Breite          6519 non-null   float64\n",
      " 7   Betreiber_Name  6517 non-null   object \n",
      " 8   Betreiber_Nr    5395 non-null   float64\n",
      " 9   Status          24 non-null     object \n",
      "dtypes: float64(3), int64(1), object(6)\n",
      "memory usage: 509.4+ KB\n"
     ]
    },
    {
     "data": {
      "text/plain": [
       "array(['neu', None], dtype=object)"
      ]
     },
     "execution_count": 3,
     "metadata": {},
     "output_type": "execute_result"
    }
   ],
   "source": [
    "df.info()\n",
    "\n",
    "df['Status'].unique()"
   ]
  }
 ],
 "metadata": {
  "kernelspec": {
   "display_name": "Python 3",
   "language": "python",
   "name": "python3"
  },
  "language_info": {
   "codemirror_mode": {
    "name": "ipython",
    "version": 3
   },
   "file_extension": ".py",
   "mimetype": "text/x-python",
   "name": "python",
   "nbconvert_exporter": "python",
   "pygments_lexer": "ipython3",
   "version": "3.8.0"
  },
  "orig_nbformat": 4,
  "vscode": {
   "interpreter": {
    "hash": "a613a6da1e6899e4b3e4cec4aedde9fb99449713599756513d1c158495f723e1"
   }
  }
 },
 "nbformat": 4,
 "nbformat_minor": 2
}
